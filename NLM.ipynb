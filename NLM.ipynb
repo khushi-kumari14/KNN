{
  "nbformat": 4,
  "nbformat_minor": 0,
  "metadata": {
    "colab": {
      "provenance": [],
      "include_colab_link": true
    },
    "kernelspec": {
      "name": "python3",
      "display_name": "Python 3"
    },
    "language_info": {
      "name": "python"
    }
  },
  "cells": [
    {
      "cell_type": "markdown",
      "metadata": {
        "id": "view-in-github",
        "colab_type": "text"
      },
      "source": [
        "<a href=\"https://colab.research.google.com/github/khushi-kumari14/KNN/blob/main/NLM.ipynb\" target=\"_parent\"><img src=\"https://colab.research.google.com/assets/colab-badge.svg\" alt=\"Open In Colab\"/></a>"
      ]
    },
    {
      "cell_type": "code",
      "execution_count": 1,
      "metadata": {
        "id": "-FjHApoXOeqo"
      },
      "outputs": [],
      "source": [
        "import nltk\n",
        "import re"
      ]
    },
    {
      "cell_type": "code",
      "source": [
        "filename = '/content/betweenshadesofgray.txt'\n",
        "file = open(filename,'r',encoding=\"utf-8\")"
      ],
      "metadata": {
        "id": "DTUaN2WyOg9N"
      },
      "execution_count": 2,
      "outputs": []
    },
    {
      "cell_type": "code",
      "source": [
        "text = file.read()\n",
        "text = text.replace(\"\\n\",\" \")"
      ],
      "metadata": {
        "id": "vERmyAtKPFlh"
      },
      "execution_count": 3,
      "outputs": []
    },
    {
      "cell_type": "code",
      "source": [
        "nltk.download('punkt')"
      ],
      "metadata": {
        "colab": {
          "base_uri": "https://localhost:8080/"
        },
        "id": "kGkVcmKfPIBU",
        "outputId": "721566cb-42df-4f86-c781-a4fb0d32a8da"
      },
      "execution_count": 4,
      "outputs": [
        {
          "output_type": "stream",
          "name": "stderr",
          "text": [
            "[nltk_data] Downloading package punkt to /root/nltk_data...\n",
            "[nltk_data]   Unzipping tokenizers/punkt.zip.\n"
          ]
        },
        {
          "output_type": "execute_result",
          "data": {
            "text/plain": [
              "True"
            ]
          },
          "metadata": {},
          "execution_count": 4
        }
      ]
    },
    {
      "cell_type": "code",
      "source": [
        "print(text)"
      ],
      "metadata": {
        "colab": {
          "base_uri": "https://localhost:8080/"
        },
        "id": "uCpWjKo1PL1q",
        "outputId": "b7343c6b-a370-497b-d698-2406c4b4e788"
      },
      "execution_count": 5,
      "outputs": [
        {
          "output_type": "stream",
          "name": "stdout",
          "text": [
            "Lina Vilkas is introduced as a young artist living comfortably in her home in Kaunas, Lithuania, with her loving family. But, on June 14, 1941, Soviet officers (the NKVD) barge into her home, tearing her family from the comfortable life they've known. Separated from her father and forced onto a crowded and dirty train car, Lina, along with her mother and her younger brother Jonas, slowly makes her way north to a work camp in the coldest reaches of Siberia. Here they are forced, under Stalin's orders, to dig for beets and fight for their lives under the cruelest of conditions. Lina befriends many people and works hard alongside her mother and brother for food and survival.  Upon arriving at the camp, Lina and her family are forced to live with Ulyushka, a cruel, seemingly heartless woman who initially dislikes the Vilkas family and constantly takes their food and other goods from them as a form of rent. Elena Vilkas, Lina's mother, is kind and generous to Ulyushka, though Lina and her brother Jonas cannot understand why.  The family befriends fellow Lithuanian deportees including Andrius Arvydas (who later becomes Lina's love interest), Mr. Stalas (referred to as the Bald Man, who is secretly Jewish and adds a touch of humour because of his terrible advice and short temper), Mrs. Grybienė, Mrs. Rimas, and Aleksandras Lukas (a gray-haired man who was once a lawyer, often seen winding his watch, who is the voice and soul of reason).  One NKVD member, in particular, sticks out to Lina: Nikolai Kretzsky. Although he doesn't at first come off as necessarily kind or helpful, Kretzsky more or less befriends Lina and her mother. He can be seen as only being downright cruel to Lina when around other NKVD members. He doesn't seem to want to hurt Lina unless he absolutely has to. He is described as young, blonde-haired, and blue-eyed, and can be assumed to be quite handsome. Their relationship grows and remains important throughout the book.  Andrius Arvydas is handsome, golden-brown haired, and a source of comfort for Lina. At first, she dislikes him, dismissing him as an \"idiot\" because he smoked her book, which was a present from her dead grandmother. Their friendship blossoms but becomes troubled when Lina accuses Andrius and his mother of working for the NKVD. It turns out his mother was being unwillingly used as a prostitute because of her beauty, but only to protect her son. Andrius becomes Lina's more-or-less boyfriend and gives Lina a new book. Lina and her family are then separated from Andrius when they are transported to a different camp across the Arctic Circle. There, they are forced to build their own shelter to survive.  But then Lina's mother dies. Just when Lina doubts she will survive, a man who is a doctor, as well as an inspector of the work camps, shows up and gives everyone blankets and food. The doctor takes them home. After another long trip, Lina finds Andrius, and they get married.\n"
          ]
        }
      ]
    },
    {
      "cell_type": "code",
      "source": [
        "from nltk.tokenize import sent_tokenize\n",
        "sent_tk = sent_tokenize(text)\n",
        "print(sent_tk)\n"
      ],
      "metadata": {
        "colab": {
          "base_uri": "https://localhost:8080/"
        },
        "id": "hBUskSezlxHr",
        "outputId": "10b8de36-23b2-4d9c-9468-b07642453b9a"
      },
      "execution_count": 6,
      "outputs": [
        {
          "output_type": "stream",
          "name": "stdout",
          "text": [
            "['Lina Vilkas is introduced as a young artist living comfortably in her home in Kaunas, Lithuania, with her loving family.', \"But, on June 14, 1941, Soviet officers (the NKVD) barge into her home, tearing her family from the comfortable life they've known.\", 'Separated from her father and forced onto a crowded and dirty train car, Lina, along with her mother and her younger brother Jonas, slowly makes her way north to a work camp in the coldest reaches of Siberia.', \"Here they are forced, under Stalin's orders, to dig for beets and fight for their lives under the cruelest of conditions.\", 'Lina befriends many people and works hard alongside her mother and brother for food and survival.', 'Upon arriving at the camp, Lina and her family are forced to live with Ulyushka, a cruel, seemingly heartless woman who initially dislikes the Vilkas family and constantly takes their food and other goods from them as a form of rent.', \"Elena Vilkas, Lina's mother, is kind and generous to Ulyushka, though Lina and her brother Jonas cannot understand why.\", \"The family befriends fellow Lithuanian deportees including Andrius Arvydas (who later becomes Lina's love interest), Mr. Stalas (referred to as the Bald Man, who is secretly Jewish and adds a touch of humour because of his terrible advice and short temper), Mrs. Grybienė, Mrs. Rimas, and Aleksandras Lukas (a gray-haired man who was once a lawyer, often seen winding his watch, who is the voice and soul of reason).\", 'One NKVD member, in particular, sticks out to Lina: Nikolai Kretzsky.', \"Although he doesn't at first come off as necessarily kind or helpful, Kretzsky more or less befriends Lina and her mother.\", 'He can be seen as only being downright cruel to Lina when around other NKVD members.', \"He doesn't seem to want to hurt Lina unless he absolutely has to.\", 'He is described as young, blonde-haired, and blue-eyed, and can be assumed to be quite handsome.', 'Their relationship grows and remains important throughout the book.', 'Andrius Arvydas is handsome, golden-brown haired, and a source of comfort for Lina.', 'At first, she dislikes him, dismissing him as an \"idiot\" because he smoked her book, which was a present from her dead grandmother.', 'Their friendship blossoms but becomes troubled when Lina accuses Andrius and his mother of working for the NKVD.', 'It turns out his mother was being unwillingly used as a prostitute because of her beauty, but only to protect her son.', \"Andrius becomes Lina's more-or-less boyfriend and gives Lina a new book.\", 'Lina and her family are then separated from Andrius when they are transported to a different camp across the Arctic Circle.', 'There, they are forced to build their own shelter to survive.', \"But then Lina's mother dies.\", 'Just when Lina doubts she will survive, a man who is a doctor, as well as an inspector of the work camps, shows up and gives everyone blankets and food.', 'The doctor takes them home.', 'After another long trip, Lina finds Andrius, and they get married.']\n"
          ]
        }
      ]
    },
    {
      "cell_type": "code",
      "source": [
        "from nltk.tokenize import word_tokenize\n",
        "word_tk = word_tokenize(text)\n",
        "print(word_tk)\n"
      ],
      "metadata": {
        "colab": {
          "base_uri": "https://localhost:8080/"
        },
        "id": "zAEmzxUtmDdU",
        "outputId": "31d5d80c-199c-48e3-e781-785bdb11515b"
      },
      "execution_count": 7,
      "outputs": [
        {
          "output_type": "stream",
          "name": "stdout",
          "text": [
            "['Lina', 'Vilkas', 'is', 'introduced', 'as', 'a', 'young', 'artist', 'living', 'comfortably', 'in', 'her', 'home', 'in', 'Kaunas', ',', 'Lithuania', ',', 'with', 'her', 'loving', 'family', '.', 'But', ',', 'on', 'June', '14', ',', '1941', ',', 'Soviet', 'officers', '(', 'the', 'NKVD', ')', 'barge', 'into', 'her', 'home', ',', 'tearing', 'her', 'family', 'from', 'the', 'comfortable', 'life', 'they', \"'ve\", 'known', '.', 'Separated', 'from', 'her', 'father', 'and', 'forced', 'onto', 'a', 'crowded', 'and', 'dirty', 'train', 'car', ',', 'Lina', ',', 'along', 'with', 'her', 'mother', 'and', 'her', 'younger', 'brother', 'Jonas', ',', 'slowly', 'makes', 'her', 'way', 'north', 'to', 'a', 'work', 'camp', 'in', 'the', 'coldest', 'reaches', 'of', 'Siberia', '.', 'Here', 'they', 'are', 'forced', ',', 'under', 'Stalin', \"'s\", 'orders', ',', 'to', 'dig', 'for', 'beets', 'and', 'fight', 'for', 'their', 'lives', 'under', 'the', 'cruelest', 'of', 'conditions', '.', 'Lina', 'befriends', 'many', 'people', 'and', 'works', 'hard', 'alongside', 'her', 'mother', 'and', 'brother', 'for', 'food', 'and', 'survival', '.', 'Upon', 'arriving', 'at', 'the', 'camp', ',', 'Lina', 'and', 'her', 'family', 'are', 'forced', 'to', 'live', 'with', 'Ulyushka', ',', 'a', 'cruel', ',', 'seemingly', 'heartless', 'woman', 'who', 'initially', 'dislikes', 'the', 'Vilkas', 'family', 'and', 'constantly', 'takes', 'their', 'food', 'and', 'other', 'goods', 'from', 'them', 'as', 'a', 'form', 'of', 'rent', '.', 'Elena', 'Vilkas', ',', 'Lina', \"'s\", 'mother', ',', 'is', 'kind', 'and', 'generous', 'to', 'Ulyushka', ',', 'though', 'Lina', 'and', 'her', 'brother', 'Jonas', 'can', 'not', 'understand', 'why', '.', 'The', 'family', 'befriends', 'fellow', 'Lithuanian', 'deportees', 'including', 'Andrius', 'Arvydas', '(', 'who', 'later', 'becomes', 'Lina', \"'s\", 'love', 'interest', ')', ',', 'Mr.', 'Stalas', '(', 'referred', 'to', 'as', 'the', 'Bald', 'Man', ',', 'who', 'is', 'secretly', 'Jewish', 'and', 'adds', 'a', 'touch', 'of', 'humour', 'because', 'of', 'his', 'terrible', 'advice', 'and', 'short', 'temper', ')', ',', 'Mrs.', 'Grybienė', ',', 'Mrs.', 'Rimas', ',', 'and', 'Aleksandras', 'Lukas', '(', 'a', 'gray-haired', 'man', 'who', 'was', 'once', 'a', 'lawyer', ',', 'often', 'seen', 'winding', 'his', 'watch', ',', 'who', 'is', 'the', 'voice', 'and', 'soul', 'of', 'reason', ')', '.', 'One', 'NKVD', 'member', ',', 'in', 'particular', ',', 'sticks', 'out', 'to', 'Lina', ':', 'Nikolai', 'Kretzsky', '.', 'Although', 'he', 'does', \"n't\", 'at', 'first', 'come', 'off', 'as', 'necessarily', 'kind', 'or', 'helpful', ',', 'Kretzsky', 'more', 'or', 'less', 'befriends', 'Lina', 'and', 'her', 'mother', '.', 'He', 'can', 'be', 'seen', 'as', 'only', 'being', 'downright', 'cruel', 'to', 'Lina', 'when', 'around', 'other', 'NKVD', 'members', '.', 'He', 'does', \"n't\", 'seem', 'to', 'want', 'to', 'hurt', 'Lina', 'unless', 'he', 'absolutely', 'has', 'to', '.', 'He', 'is', 'described', 'as', 'young', ',', 'blonde-haired', ',', 'and', 'blue-eyed', ',', 'and', 'can', 'be', 'assumed', 'to', 'be', 'quite', 'handsome', '.', 'Their', 'relationship', 'grows', 'and', 'remains', 'important', 'throughout', 'the', 'book', '.', 'Andrius', 'Arvydas', 'is', 'handsome', ',', 'golden-brown', 'haired', ',', 'and', 'a', 'source', 'of', 'comfort', 'for', 'Lina', '.', 'At', 'first', ',', 'she', 'dislikes', 'him', ',', 'dismissing', 'him', 'as', 'an', '``', 'idiot', \"''\", 'because', 'he', 'smoked', 'her', 'book', ',', 'which', 'was', 'a', 'present', 'from', 'her', 'dead', 'grandmother', '.', 'Their', 'friendship', 'blossoms', 'but', 'becomes', 'troubled', 'when', 'Lina', 'accuses', 'Andrius', 'and', 'his', 'mother', 'of', 'working', 'for', 'the', 'NKVD', '.', 'It', 'turns', 'out', 'his', 'mother', 'was', 'being', 'unwillingly', 'used', 'as', 'a', 'prostitute', 'because', 'of', 'her', 'beauty', ',', 'but', 'only', 'to', 'protect', 'her', 'son', '.', 'Andrius', 'becomes', 'Lina', \"'s\", 'more-or-less', 'boyfriend', 'and', 'gives', 'Lina', 'a', 'new', 'book', '.', 'Lina', 'and', 'her', 'family', 'are', 'then', 'separated', 'from', 'Andrius', 'when', 'they', 'are', 'transported', 'to', 'a', 'different', 'camp', 'across', 'the', 'Arctic', 'Circle', '.', 'There', ',', 'they', 'are', 'forced', 'to', 'build', 'their', 'own', 'shelter', 'to', 'survive', '.', 'But', 'then', 'Lina', \"'s\", 'mother', 'dies', '.', 'Just', 'when', 'Lina', 'doubts', 'she', 'will', 'survive', ',', 'a', 'man', 'who', 'is', 'a', 'doctor', ',', 'as', 'well', 'as', 'an', 'inspector', 'of', 'the', 'work', 'camps', ',', 'shows', 'up', 'and', 'gives', 'everyone', 'blankets', 'and', 'food', '.', 'The', 'doctor', 'takes', 'them', 'home', '.', 'After', 'another', 'long', 'trip', ',', 'Lina', 'finds', 'Andrius', ',', 'and', 'they', 'get', 'married', '.']\n"
          ]
        }
      ]
    },
    {
      "cell_type": "code",
      "source": [
        "nltk.download('stopwords')\n",
        "from nltk.corpus import stopwords\n",
        "sw = set(stopwords.words(\"english\"))\n",
        "print(sw)"
      ],
      "metadata": {
        "colab": {
          "base_uri": "https://localhost:8080/"
        },
        "id": "hO_WmZ-YmX66",
        "outputId": "ddd82127-d7bf-482c-848b-a94a952b8253"
      },
      "execution_count": 8,
      "outputs": [
        {
          "output_type": "stream",
          "name": "stdout",
          "text": [
            "{'that', 'into', \"should've\", 'such', 'myself', 'ourselves', 'mustn', 'all', 'your', \"you've\", 'she', 'out', 'during', 'themselves', 'until', 'nor', 'will', \"wasn't\", 'a', \"mightn't\", 'our', 'not', 'here', 'does', 'itself', 'which', 'are', \"shan't\", 'about', \"mustn't\", \"doesn't\", 'didn', 'where', \"you're\", 'needn', \"weren't\", 'shouldn', 'both', 'y', 'his', 'those', 'above', 'now', 'the', 'was', 'against', 'doesn', 'himself', 'shan', 'to', 'd', \"won't\", \"don't\", 'has', 'were', 'is', 'ain', 's', 'have', 'weren', 'its', 'before', 'wouldn', 'their', 'through', 'couldn', 'be', \"isn't\", 'being', 'between', 'same', 'yourself', 'once', 'at', 'they', 'these', 'i', \"you'll\", 'own', 'ours', 'so', 'did', \"didn't\", \"you'd\", 'an', 'up', \"couldn't\", 'hadn', 'do', \"hasn't\", 'who', 't', \"she's\", \"wouldn't\", 'very', 've', 'for', 'mightn', 'while', 'each', 'too', 'herself', 'or', 'than', 'll', \"shouldn't\", 'why', 'on', 'further', 'this', 'them', \"it's\", 'yours', 'o', 'theirs', 'some', 'you', 'again', 'hasn', 'hers', 'aren', 'no', 'am', 'but', 'having', 'any', 'don', 'and', 'few', 'in', 'ma', \"needn't\", 'he', 'below', \"that'll\", 'whom', 'haven', 'because', 'with', \"aren't\", 'over', 'of', 'her', 'been', 'we', 're', 'doing', 'can', 'under', 'it', 'what', 'by', 'after', 'other', 'm', 'him', 'only', 'should', 'won', 'more', 'from', 'if', 'down', 'off', 'there', 'most', 'when', 'wasn', \"hadn't\", 'as', 'how', 'then', 'isn', 'me', 'yourselves', 'my', \"haven't\", 'just', 'had'}\n"
          ]
        },
        {
          "output_type": "stream",
          "name": "stderr",
          "text": [
            "[nltk_data] Downloading package stopwords to /root/nltk_data...\n",
            "[nltk_data]   Unzipping corpora/stopwords.zip.\n"
          ]
        }
      ]
    },
    {
      "cell_type": "code",
      "source": [
        "filter_words = [word for word in word_tk if not word in sw]\n",
        "print(filter_words)"
      ],
      "metadata": {
        "colab": {
          "base_uri": "https://localhost:8080/"
        },
        "id": "07ETj8hVmzxb",
        "outputId": "c765eb54-c91d-4994-d0c8-b0d146e0cf67"
      },
      "execution_count": 9,
      "outputs": [
        {
          "output_type": "stream",
          "name": "stdout",
          "text": [
            "['Lina', 'Vilkas', 'introduced', 'young', 'artist', 'living', 'comfortably', 'home', 'Kaunas', ',', 'Lithuania', ',', 'loving', 'family', '.', 'But', ',', 'June', '14', ',', '1941', ',', 'Soviet', 'officers', '(', 'NKVD', ')', 'barge', 'home', ',', 'tearing', 'family', 'comfortable', 'life', \"'ve\", 'known', '.', 'Separated', 'father', 'forced', 'onto', 'crowded', 'dirty', 'train', 'car', ',', 'Lina', ',', 'along', 'mother', 'younger', 'brother', 'Jonas', ',', 'slowly', 'makes', 'way', 'north', 'work', 'camp', 'coldest', 'reaches', 'Siberia', '.', 'Here', 'forced', ',', 'Stalin', \"'s\", 'orders', ',', 'dig', 'beets', 'fight', 'lives', 'cruelest', 'conditions', '.', 'Lina', 'befriends', 'many', 'people', 'works', 'hard', 'alongside', 'mother', 'brother', 'food', 'survival', '.', 'Upon', 'arriving', 'camp', ',', 'Lina', 'family', 'forced', 'live', 'Ulyushka', ',', 'cruel', ',', 'seemingly', 'heartless', 'woman', 'initially', 'dislikes', 'Vilkas', 'family', 'constantly', 'takes', 'food', 'goods', 'form', 'rent', '.', 'Elena', 'Vilkas', ',', 'Lina', \"'s\", 'mother', ',', 'kind', 'generous', 'Ulyushka', ',', 'though', 'Lina', 'brother', 'Jonas', 'understand', '.', 'The', 'family', 'befriends', 'fellow', 'Lithuanian', 'deportees', 'including', 'Andrius', 'Arvydas', '(', 'later', 'becomes', 'Lina', \"'s\", 'love', 'interest', ')', ',', 'Mr.', 'Stalas', '(', 'referred', 'Bald', 'Man', ',', 'secretly', 'Jewish', 'adds', 'touch', 'humour', 'terrible', 'advice', 'short', 'temper', ')', ',', 'Mrs.', 'Grybienė', ',', 'Mrs.', 'Rimas', ',', 'Aleksandras', 'Lukas', '(', 'gray-haired', 'man', 'lawyer', ',', 'often', 'seen', 'winding', 'watch', ',', 'voice', 'soul', 'reason', ')', '.', 'One', 'NKVD', 'member', ',', 'particular', ',', 'sticks', 'Lina', ':', 'Nikolai', 'Kretzsky', '.', 'Although', \"n't\", 'first', 'come', 'necessarily', 'kind', 'helpful', ',', 'Kretzsky', 'less', 'befriends', 'Lina', 'mother', '.', 'He', 'seen', 'downright', 'cruel', 'Lina', 'around', 'NKVD', 'members', '.', 'He', \"n't\", 'seem', 'want', 'hurt', 'Lina', 'unless', 'absolutely', '.', 'He', 'described', 'young', ',', 'blonde-haired', ',', 'blue-eyed', ',', 'assumed', 'quite', 'handsome', '.', 'Their', 'relationship', 'grows', 'remains', 'important', 'throughout', 'book', '.', 'Andrius', 'Arvydas', 'handsome', ',', 'golden-brown', 'haired', ',', 'source', 'comfort', 'Lina', '.', 'At', 'first', ',', 'dislikes', ',', 'dismissing', '``', 'idiot', \"''\", 'smoked', 'book', ',', 'present', 'dead', 'grandmother', '.', 'Their', 'friendship', 'blossoms', 'becomes', 'troubled', 'Lina', 'accuses', 'Andrius', 'mother', 'working', 'NKVD', '.', 'It', 'turns', 'mother', 'unwillingly', 'used', 'prostitute', 'beauty', ',', 'protect', 'son', '.', 'Andrius', 'becomes', 'Lina', \"'s\", 'more-or-less', 'boyfriend', 'gives', 'Lina', 'new', 'book', '.', 'Lina', 'family', 'separated', 'Andrius', 'transported', 'different', 'camp', 'across', 'Arctic', 'Circle', '.', 'There', ',', 'forced', 'build', 'shelter', 'survive', '.', 'But', 'Lina', \"'s\", 'mother', 'dies', '.', 'Just', 'Lina', 'doubts', 'survive', ',', 'man', 'doctor', ',', 'well', 'inspector', 'work', 'camps', ',', 'shows', 'gives', 'everyone', 'blankets', 'food', '.', 'The', 'doctor', 'takes', 'home', '.', 'After', 'another', 'long', 'trip', ',', 'Lina', 'finds', 'Andrius', ',', 'get', 'married', '.']\n"
          ]
        }
      ]
    },
    {
      "cell_type": "code",
      "source": [
        "lower_clean_data = []\n",
        "for w in filter_words:\n",
        "  lower_clean_data.append(w.lower())\n",
        "print(lower_clean_data)  "
      ],
      "metadata": {
        "colab": {
          "base_uri": "https://localhost:8080/"
        },
        "id": "rT1E9LhfnMu9",
        "outputId": "d1af2812-a079-4a15-ddf5-ff644f3132b4"
      },
      "execution_count": 10,
      "outputs": [
        {
          "output_type": "stream",
          "name": "stdout",
          "text": [
            "['lina', 'vilkas', 'introduced', 'young', 'artist', 'living', 'comfortably', 'home', 'kaunas', ',', 'lithuania', ',', 'loving', 'family', '.', 'but', ',', 'june', '14', ',', '1941', ',', 'soviet', 'officers', '(', 'nkvd', ')', 'barge', 'home', ',', 'tearing', 'family', 'comfortable', 'life', \"'ve\", 'known', '.', 'separated', 'father', 'forced', 'onto', 'crowded', 'dirty', 'train', 'car', ',', 'lina', ',', 'along', 'mother', 'younger', 'brother', 'jonas', ',', 'slowly', 'makes', 'way', 'north', 'work', 'camp', 'coldest', 'reaches', 'siberia', '.', 'here', 'forced', ',', 'stalin', \"'s\", 'orders', ',', 'dig', 'beets', 'fight', 'lives', 'cruelest', 'conditions', '.', 'lina', 'befriends', 'many', 'people', 'works', 'hard', 'alongside', 'mother', 'brother', 'food', 'survival', '.', 'upon', 'arriving', 'camp', ',', 'lina', 'family', 'forced', 'live', 'ulyushka', ',', 'cruel', ',', 'seemingly', 'heartless', 'woman', 'initially', 'dislikes', 'vilkas', 'family', 'constantly', 'takes', 'food', 'goods', 'form', 'rent', '.', 'elena', 'vilkas', ',', 'lina', \"'s\", 'mother', ',', 'kind', 'generous', 'ulyushka', ',', 'though', 'lina', 'brother', 'jonas', 'understand', '.', 'the', 'family', 'befriends', 'fellow', 'lithuanian', 'deportees', 'including', 'andrius', 'arvydas', '(', 'later', 'becomes', 'lina', \"'s\", 'love', 'interest', ')', ',', 'mr.', 'stalas', '(', 'referred', 'bald', 'man', ',', 'secretly', 'jewish', 'adds', 'touch', 'humour', 'terrible', 'advice', 'short', 'temper', ')', ',', 'mrs.', 'grybienė', ',', 'mrs.', 'rimas', ',', 'aleksandras', 'lukas', '(', 'gray-haired', 'man', 'lawyer', ',', 'often', 'seen', 'winding', 'watch', ',', 'voice', 'soul', 'reason', ')', '.', 'one', 'nkvd', 'member', ',', 'particular', ',', 'sticks', 'lina', ':', 'nikolai', 'kretzsky', '.', 'although', \"n't\", 'first', 'come', 'necessarily', 'kind', 'helpful', ',', 'kretzsky', 'less', 'befriends', 'lina', 'mother', '.', 'he', 'seen', 'downright', 'cruel', 'lina', 'around', 'nkvd', 'members', '.', 'he', \"n't\", 'seem', 'want', 'hurt', 'lina', 'unless', 'absolutely', '.', 'he', 'described', 'young', ',', 'blonde-haired', ',', 'blue-eyed', ',', 'assumed', 'quite', 'handsome', '.', 'their', 'relationship', 'grows', 'remains', 'important', 'throughout', 'book', '.', 'andrius', 'arvydas', 'handsome', ',', 'golden-brown', 'haired', ',', 'source', 'comfort', 'lina', '.', 'at', 'first', ',', 'dislikes', ',', 'dismissing', '``', 'idiot', \"''\", 'smoked', 'book', ',', 'present', 'dead', 'grandmother', '.', 'their', 'friendship', 'blossoms', 'becomes', 'troubled', 'lina', 'accuses', 'andrius', 'mother', 'working', 'nkvd', '.', 'it', 'turns', 'mother', 'unwillingly', 'used', 'prostitute', 'beauty', ',', 'protect', 'son', '.', 'andrius', 'becomes', 'lina', \"'s\", 'more-or-less', 'boyfriend', 'gives', 'lina', 'new', 'book', '.', 'lina', 'family', 'separated', 'andrius', 'transported', 'different', 'camp', 'across', 'arctic', 'circle', '.', 'there', ',', 'forced', 'build', 'shelter', 'survive', '.', 'but', 'lina', \"'s\", 'mother', 'dies', '.', 'just', 'lina', 'doubts', 'survive', ',', 'man', 'doctor', ',', 'well', 'inspector', 'work', 'camps', ',', 'shows', 'gives', 'everyone', 'blankets', 'food', '.', 'the', 'doctor', 'takes', 'home', '.', 'after', 'another', 'long', 'trip', ',', 'lina', 'finds', 'andrius', ',', 'get', 'married', '.']\n"
          ]
        }
      ]
    },
    {
      "cell_type": "code",
      "source": [
        "from textblob import Word\n",
        "nltk.download('wordnet')\n",
        "nltk.download('omw-1.4')"
      ],
      "metadata": {
        "colab": {
          "base_uri": "https://localhost:8080/"
        },
        "id": "VW3J4h6nn5p6",
        "outputId": "1a9e1f02-2f6e-4408-88c4-92e7ee6e6dda"
      },
      "execution_count": 11,
      "outputs": [
        {
          "output_type": "stream",
          "name": "stderr",
          "text": [
            "[nltk_data] Downloading package wordnet to /root/nltk_data...\n",
            "[nltk_data] Downloading package omw-1.4 to /root/nltk_data...\n"
          ]
        },
        {
          "output_type": "execute_result",
          "data": {
            "text/plain": [
              "True"
            ]
          },
          "metadata": {},
          "execution_count": 11
        }
      ]
    },
    {
      "cell_type": "code",
      "source": [
        "clean_filter = \"\".join(Word(word).lemmatize() for word in str(lower_clean_data).split())\n",
        "print(clean_filter)"
      ],
      "metadata": {
        "colab": {
          "base_uri": "https://localhost:8080/"
        },
        "id": "giy9a5IprurO",
        "outputId": "ad4d1215-39d3-491a-95a4-e57184ceb0a1"
      },
      "execution_count": 12,
      "outputs": [
        {
          "output_type": "stream",
          "name": "stdout",
          "text": [
            "['lina','vilkas','introduced','young','artist','living','comfortably','home','kaunas',',','lithuania',',','loving','family','.','but',',','june','14',',','1941',',','soviet','officers','(','nkvd',')','barge','home',',','tearing','family','comfortable','life',\"'ve\",'known','.','separated','father','forced','onto','crowded','dirty','train','car',',','lina',',','along','mother','younger','brother','jonas',',','slowly','makes','way','north','work','camp','coldest','reaches','siberia','.','here','forced',',','stalin',\"'s\",'orders',',','dig','beets','fight','lives','cruelest','conditions','.','lina','befriends','many','people','works','hard','alongside','mother','brother','food','survival','.','upon','arriving','camp',',','lina','family','forced','live','ulyushka',',','cruel',',','seemingly','heartless','woman','initially','dislikes','vilkas','family','constantly','takes','food','goods','form','rent','.','elena','vilkas',',','lina',\"'s\",'mother',',','kind','generous','ulyushka',',','though','lina','brother','jonas','understand','.','the','family','befriends','fellow','lithuanian','deportees','including','andrius','arvydas','(','later','becomes','lina',\"'s\",'love','interest',')',',','mr.','stalas','(','referred','bald','man',',','secretly','jewish','adds','touch','humour','terrible','advice','short','temper',')',',','mrs.','grybienė',',','mrs.','rimas',',','aleksandras','lukas','(','gray-haired','man','lawyer',',','often','seen','winding','watch',',','voice','soul','reason',')','.','one','nkvd','member',',','particular',',','sticks','lina',':','nikolai','kretzsky','.','although',\"n't\",'first','come','necessarily','kind','helpful',',','kretzsky','less','befriends','lina','mother','.','he','seen','downright','cruel','lina','around','nkvd','members','.','he',\"n't\",'seem','want','hurt','lina','unless','absolutely','.','he','described','young',',','blonde-haired',',','blue-eyed',',','assumed','quite','handsome','.','their','relationship','grows','remains','important','throughout','book','.','andrius','arvydas','handsome',',','golden-brown','haired',',','source','comfort','lina','.','at','first',',','dislikes',',','dismissing','``','idiot',\"''\",'smoked','book',',','present','dead','grandmother','.','their','friendship','blossoms','becomes','troubled','lina','accuses','andrius','mother','working','nkvd','.','it','turns','mother','unwillingly','used','prostitute','beauty',',','protect','son','.','andrius','becomes','lina',\"'s\",'more-or-less','boyfriend','gives','lina','new','book','.','lina','family','separated','andrius','transported','different','camp','across','arctic','circle','.','there',',','forced','build','shelter','survive','.','but','lina',\"'s\",'mother','dies','.','just','lina','doubts','survive',',','man','doctor',',','well','inspector','work','camps',',','shows','gives','everyone','blankets','food','.','the','doctor','takes','home','.','after','another','long','trip',',','lina','finds','andrius',',','get','married','.']\n"
          ]
        }
      ]
    },
    {
      "cell_type": "code",
      "source": [
        "from collections import Counter\n",
        "most_com_words=[]\n",
        "word_counts = Counter(lower_clean_data)\n",
        "most_com_words = word_counts.most_common()\n",
        "print(most_com_words)"
      ],
      "metadata": {
        "colab": {
          "base_uri": "https://localhost:8080/"
        },
        "id": "9rhs0rB_sTwj",
        "outputId": "3140c8cd-f902-45d2-c77c-e0c11727307a"
      },
      "execution_count": 13,
      "outputs": [
        {
          "output_type": "stream",
          "name": "stdout",
          "text": [
            "[(',', 42), ('.', 25), ('lina', 19), ('mother', 7), ('family', 6), ('andrius', 6), (\"'s\", 5), ('(', 4), ('nkvd', 4), (')', 4), ('forced', 4), ('vilkas', 3), ('home', 3), ('brother', 3), ('camp', 3), ('befriends', 3), ('food', 3), ('becomes', 3), ('man', 3), ('he', 3), ('book', 3), ('young', 2), ('but', 2), ('separated', 2), ('jonas', 2), ('work', 2), ('ulyushka', 2), ('cruel', 2), ('dislikes', 2), ('takes', 2), ('kind', 2), ('the', 2), ('arvydas', 2), ('mrs.', 2), ('seen', 2), ('kretzsky', 2), (\"n't\", 2), ('first', 2), ('handsome', 2), ('their', 2), ('gives', 2), ('survive', 2), ('doctor', 2), ('introduced', 1), ('artist', 1), ('living', 1), ('comfortably', 1), ('kaunas', 1), ('lithuania', 1), ('loving', 1), ('june', 1), ('14', 1), ('1941', 1), ('soviet', 1), ('officers', 1), ('barge', 1), ('tearing', 1), ('comfortable', 1), ('life', 1), (\"'ve\", 1), ('known', 1), ('father', 1), ('onto', 1), ('crowded', 1), ('dirty', 1), ('train', 1), ('car', 1), ('along', 1), ('younger', 1), ('slowly', 1), ('makes', 1), ('way', 1), ('north', 1), ('coldest', 1), ('reaches', 1), ('siberia', 1), ('here', 1), ('stalin', 1), ('orders', 1), ('dig', 1), ('beets', 1), ('fight', 1), ('lives', 1), ('cruelest', 1), ('conditions', 1), ('many', 1), ('people', 1), ('works', 1), ('hard', 1), ('alongside', 1), ('survival', 1), ('upon', 1), ('arriving', 1), ('live', 1), ('seemingly', 1), ('heartless', 1), ('woman', 1), ('initially', 1), ('constantly', 1), ('goods', 1), ('form', 1), ('rent', 1), ('elena', 1), ('generous', 1), ('though', 1), ('understand', 1), ('fellow', 1), ('lithuanian', 1), ('deportees', 1), ('including', 1), ('later', 1), ('love', 1), ('interest', 1), ('mr.', 1), ('stalas', 1), ('referred', 1), ('bald', 1), ('secretly', 1), ('jewish', 1), ('adds', 1), ('touch', 1), ('humour', 1), ('terrible', 1), ('advice', 1), ('short', 1), ('temper', 1), ('grybienė', 1), ('rimas', 1), ('aleksandras', 1), ('lukas', 1), ('gray-haired', 1), ('lawyer', 1), ('often', 1), ('winding', 1), ('watch', 1), ('voice', 1), ('soul', 1), ('reason', 1), ('one', 1), ('member', 1), ('particular', 1), ('sticks', 1), (':', 1), ('nikolai', 1), ('although', 1), ('come', 1), ('necessarily', 1), ('helpful', 1), ('less', 1), ('downright', 1), ('around', 1), ('members', 1), ('seem', 1), ('want', 1), ('hurt', 1), ('unless', 1), ('absolutely', 1), ('described', 1), ('blonde-haired', 1), ('blue-eyed', 1), ('assumed', 1), ('quite', 1), ('relationship', 1), ('grows', 1), ('remains', 1), ('important', 1), ('throughout', 1), ('golden-brown', 1), ('haired', 1), ('source', 1), ('comfort', 1), ('at', 1), ('dismissing', 1), ('``', 1), ('idiot', 1), (\"''\", 1), ('smoked', 1), ('present', 1), ('dead', 1), ('grandmother', 1), ('friendship', 1), ('blossoms', 1), ('troubled', 1), ('accuses', 1), ('working', 1), ('it', 1), ('turns', 1), ('unwillingly', 1), ('used', 1), ('prostitute', 1), ('beauty', 1), ('protect', 1), ('son', 1), ('more-or-less', 1), ('boyfriend', 1), ('new', 1), ('transported', 1), ('different', 1), ('across', 1), ('arctic', 1), ('circle', 1), ('there', 1), ('build', 1), ('shelter', 1), ('dies', 1), ('just', 1), ('doubts', 1), ('well', 1), ('inspector', 1), ('camps', 1), ('shows', 1), ('everyone', 1), ('blankets', 1), ('after', 1), ('another', 1), ('long', 1), ('trip', 1), ('finds', 1), ('get', 1), ('married', 1)]\n"
          ]
        }
      ]
    },
    {
      "cell_type": "code",
      "source": [
        "import matplotlib.pyplot as plt\n",
        "from nltk.probability import FreqDist\n",
        "fd = FreqDist(lower_clean_data)\n",
        "fd.plot(30,cumulative=False)"
      ],
      "metadata": {
        "colab": {
          "base_uri": "https://localhost:8080/",
          "height": 337
        },
        "id": "HpiMMyb2tFpG",
        "outputId": "c00d368d-9ca5-42fc-dec9-5adca84a1c8a"
      },
      "execution_count": 14,
      "outputs": [
        {
          "output_type": "display_data",
          "data": {
            "text/plain": [
              "<Figure size 432x288 with 1 Axes>"
            ],
            "image/png": "[encoded data removed]"
          },
          "metadata": {
            "needs_background": "light"
          }
        },
        {
          "output_type": "execute_result",
          "data": {
            "text/plain": [
              "<AxesSubplot:xlabel='Samples', ylabel='Counts'>"
            ]
          },
          "metadata": {},
          "execution_count": 14
        }
      ]
    },
    {
      "cell_type": "code",
      "source": [],
      "metadata": {
        "id": "EJaD4zEQtw2Z"
      },
      "execution_count": null,
      "outputs": []
    }
  ]
}